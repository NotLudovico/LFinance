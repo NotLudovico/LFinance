import polars as pl
import matplotlib.pyplot as plt
import seaborn as sns





BASE_URL = "https://raw.githubusercontent.com/paolocole/Stock-Indexes-Historical-Data/main/DAILY/NET/EUR/"
indexes = (
    pl.read_excel(
        "https://www.paolocoletti.com/wp-content/uploads/youtube/etfs_with_msci.xlsx",
        sheet_name="selezionati",
    )
    .with_columns(
        url=(
            pl.lit(BASE_URL)
            + pl.col("Path").str.replace_all(r"\\", "/")
            + "/"
            + pl.col("File")
            + ".csv"
        )
    )
    .select(["MSCI index", "url"])
)
indexes


frames = [
    pl.read_csv(url, try_parse_dates=True)
    .rename({c: name for c in pl.read_csv(url, n_rows=1).columns if c != "Date"})
    for name, url in indexes.iter_rows()
]
prices = pl.concat(frames, how="align")
prices





changes = (
    prices.lazy()
    .with_columns(
        *(pl.col(col).pct_change().alias(col) for col in prices.columns if col != "Date")
    )
    .collect()
)
changes





corr = changes.drop("Date").to_pandas().corr()
plt.figure(figsize=(20, 15))
sns.heatmap(
    round(corr * 100, 0),
    cmap="Reds",
    linewidths=0.1,
    annot=True,
    fmt=".0f",
    vmin=0,
    vmax=100,
    annot_kws={"size": 7},
)


redundant = [
    "ACWI",
    "USA",
    "NORTH AMERICA",
    "WORLD ex EMU",
    "WORLD ex EUROPE",
    "EM (EMERGING MARKETS)",
    "EM ASIA",
    "AC FAR EAST ex JAPAN",
    "AC ASIA ex JAPAN",
    "EMU",
    "WORLD ex USA",
    "EUROPE ex UK",
    "FRANCE",
    "JAPAN",
    "EM (EMERGING MARKETS) ex CHINA",
    "EM LATIN AMERICA",
    "EMU SMALL CAP",
    "AUSTRALIA",
    "UNITED KINGDOM SMALL CAP",
]
changes = changes.drop(redundant)
prices = prices.drop(redundant)

corr = changes.drop("Date").to_pandas().corr()
plt.figure(figsize=(15, 10))
sns.heatmap(
    round(corr * 100, 0),
    cmap="Reds",
    linewidths=0.1,
    annot=True,
    fmt=".0f",
    vmin=0,
    vmax=100,
    annot_kws={"size": 7},
)











import polars as pl

pl.Config(tbl_cols=-1, tbl_rows=10)

def calculate_commission(value: float) -> float:
    """
    Calculates the trading commission based on a tiered structure.

    Args:
        value: The total value of the transaction.

    Returns:
        The calculated commission fee.
    """
    FEE_MIN = 5.0
    FEE_MAX = 25.0
    FEE_RATE = 0.0018
    return max(FEE_MIN, min(FEE_RATE * value, FEE_MAX))


class PortfolioManager:
    """
    Manages and rebalances a financial portfolio using Polars.
    """

    def __init__(
        self, portfolio_df: pl.DataFrame, verbose=False, tax_rate: float = 0.26
    ):
        """
        Initializes the PortfolioManager.

        Args:
            portfolio_df: A Polars DataFrame with the initial portfolio state.
                          Required columns: ["index", "quantity", "avg_price", "price", "target_pct"]
            tax_rate: The capital gains tax rate.
        """
        self.portfolio = portfolio_df
        self.tax_rate = tax_rate
        self.verbose = verbose
        self._update_metrics()

    def _update_metrics(self):
        """
        Recalculates key portfolio metrics like current value, percentage allocations,
        and performance. This should be called after any transaction.
        """
        self.portfolio = self.portfolio.with_columns(
            (pl.col("quantity") * pl.col("price")).alias("current_value")
        )

        total_value = self.portfolio["current_value"].sum()

        self.portfolio = self.portfolio.with_columns(
            (pl.col("current_value") / total_value).alias("pct"),
            (pl.col("price") / pl.col("avg_price") - 1).alias("perf"),
        )

    def _execute_sell(self, asset: str, sell_quantity: int):
        """A helper function to execute a sell transaction for an integer quantity."""
        if sell_quantity <= 0:
            return

        # Get current asset data
        asset_row = self.portfolio.filter(pl.col("index") == asset)
        old_avg = asset_row["avg_price"][0]
        price = asset_row["price"][0]

        # Calculate sale proceeds
        sale_value = sell_quantity * price
        fee = calculate_commission(sale_value)

        # Calculate profit and apply tax
        profit = (price - old_avg) * sell_quantity
        tax_on_profit = max(0, profit * self.tax_rate)
        if self.verbose:
            print(f"Lost to taxes: {tax_on_profit:.2f}")

        net_cash_increase = sale_value - fee - tax_on_profit

        # Update portfolio DataFrame
        self.portfolio = self.portfolio.with_columns(
            # Decrease quantity of the sold asset
            pl.when(pl.col("index") == asset)
            .then(pl.col("quantity") - sell_quantity)
            .otherwise(pl.col("quantity"))
            .alias("quantity")
        ).with_columns(
            # Increase cash quantity
            pl.when(pl.col("index") == "CASH")
            .then(pl.col("quantity") + net_cash_increase)
            .otherwise(pl.col("quantity"))
            .alias("quantity")
        )
        if self.verbose:
            print(f"Sold: {sell_quantity} of {asset} for €{sale_value:,.2f}")

    def _execute_buy(self, asset: str, buy_quantity: int):
        """A helper function to execute a buy transaction for an integer quantity."""
        if buy_quantity <= 0:
            return

        # Get current asset and cash data
        asset_row = self.portfolio.filter(pl.col("index") == asset)
        old_qty = asset_row["quantity"][0]
        old_avg = asset_row["avg_price"][0]
        price = asset_row["price"][0]
        cash_available = self.portfolio.filter(pl.col("index") == "CASH")["quantity"][0]

        # Calculate cost
        cost = buy_quantity * price
        fee = calculate_commission(cost)
        total_cost = cost + fee

        if total_cost > cash_available and self.verbose:
            print(
                f"Insufficient cash to buy {asset}. Needed: ${total_cost:,.2f}, Available: €{cash_available:,.2f}"
            )
            return

        # Calculate new average price after the buy
        new_avg_price = ((old_qty * old_avg) + cost) / (old_qty + buy_quantity)

        # Update portfolio DataFrame
        self.portfolio = self.portfolio.with_columns(
            pl.when(pl.col("index") == asset)
            .then(pl.col("quantity") + buy_quantity)
            .when(pl.col("index") == "CASH")
            .then(pl.col("quantity") - total_cost)
            .otherwise(pl.col("quantity"))
            .alias("quantity"),
            pl.when(pl.col("index") == asset)
            .then(new_avg_price)
            .otherwise(pl.col("avg_price"))
            .alias("avg_price"),
        )
        
        if self.verbose:
            print(f"Bought: {buy_quantity} of {asset} for €{cost:,.2f}")

    def rebalance(self, trade_threshold: float = 1000.0):
        """
        Continuously rebalances the portfolio by selling overweight assets and
        buying underweight assets until it aligns with target percentages.

        Args:
            trade_threshold: The minimum value of a trade to execute, to avoid
                             very small, inefficient transactions.
        """
        max_iterations = 10  # Safety break to prevent infinite loops
        for _ in range(max_iterations):
            # Ensure metrics are up-to-date before making decisions
            self._update_metrics()

            total_value = self.portfolio["current_value"].sum()
            cash_available = self.portfolio.filter(pl.col("index") == "CASH")[
                "quantity"
            ][0]

            # Calculate the difference from target allocation
            self.portfolio = self.portfolio.with_columns(
                ((pl.col("target_pct") - pl.col("pct")) * total_value).alias(
                    "delta_value"
                )
            )

            # Exclude CASH from rebalancing candidates
            trade_candidates = self.portfolio.filter(pl.col("index") != "CASH")

            # --- SELL LOGIC ---
            most_overweight = trade_candidates.sort("delta_value").row(0, named=True)

            if most_overweight and most_overweight["delta_value"] < -trade_threshold:
                asset_to_sell = most_overweight["index"]
                sell_value = abs(most_overweight["delta_value"])
                # Ensure we only sell integer quantities
                sell_quantity = int(sell_value / most_overweight["price"])
                self._execute_sell(asset_to_sell, sell_quantity)
                continue  # Restart loop to re-evaluate after the trade

            # --- BUY LOGIC ---
            most_underweight = trade_candidates.sort(
                "delta_value", descending=True
            ).row(0, named=True)

            if most_underweight and most_underweight["delta_value"] > trade_threshold:
                asset_to_buy = most_underweight["index"]

                # Determine buy amount: limited by cash and the delta itself
                buy_value = min(
                    most_underweight["delta_value"],
                    cash_available - calculate_commission(cash_available),
                )

                if buy_value > trade_threshold:
                    # Ensure we only buy integer quantities
                    buy_quantity = int(buy_value / most_underweight["price"])
                    self._execute_buy(asset_to_buy, buy_quantity)
                    continue  # Restart loop to re-evaluate

            break

        # Clean up temporary columns before finishing
        self.portfolio = self.portfolio.drop("delta_value", "current_value")
        self._update_metrics()  # Final update for a clean state
        return self.portfolio


# --- Main Execution ---

# Initial portfolio data
initial_portfolio = pl.DataFrame(
    {
        "index": ["WORLD", "CHINA", "EUROPE", "JAPAN", "CASH"],
        "quantity": [150, 98, 170, 25, 7500],
        "avg_price": [234.1, 69.42, 37.15, 88.12, 1.0],
        "price": [270.6, 107.4, 156.2, 78.5, 1.0],
        "target_pct": [0.30, 0.15, 0.25, 0.30, 0.0],
    }
)

print("--- Initial Portfolio ---")
initial_val = initial_portfolio.with_columns(
    (pl.col("quantity")*pl.col("price")).alias("current_value")
)["current_value"].sum()
manager = PortfolioManager(initial_portfolio.clone(), verbose=False)
print(manager.portfolio)

final_portfolio = manager.rebalance()
print(final_portfolio)





# Annaully rebalanced
def portfolio_yearly_returns(
    prices: pl.DataFrame,
    portfolio: pl.DataFrame,
    days: int, # Must be >= 252
):
    prices = prices.select(list(portfolio["index"])[:-1]).drop_nulls()
    for start_day in prices.slice(0,len(prices) - days).iter_rows():
        portfolio_days = days
        while portfolio_days > 0:
            manager = PortfolioManager(portfolio.clone(), verbose=False)
            prices.slice() 
            portfolio = manager.rebalance()
            portfolio_days -= 252
        

portfolio = pl.DataFrame(
    {
        "index": ["WORLD", "CHINA", "EUROPE", "JAPAN IMI", "CASH"],
        "quantity": [150, 98, 170, 25, 7500],
        "avg_price": [234.1, 69.42, 37.15, 88.12, 1.0],
        "price": [270.6, 107.4, 156.2, 78.5, 1.0],
        "target_pct": [0.30, 0.15, 0.25, 0.30, 0.0],
    }
)
portfolio_yearly_returns(prices, portfolio, 252)
